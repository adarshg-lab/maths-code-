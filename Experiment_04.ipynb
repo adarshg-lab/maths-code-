{
  "nbformat": 4,
  "nbformat_minor": 0,
  "metadata": {
    "colab": {
      "provenance": [],
      "authorship_tag": "ABX9TyP5V7k42qOHCidmqkFnBsaj",
      "include_colab_link": true
    },
    "kernelspec": {
      "name": "python3",
      "display_name": "Python 3"
    },
    "language_info": {
      "name": "python"
    }
  },
  "cells": [
    {
      "cell_type": "markdown",
      "metadata": {
        "id": "view-in-github",
        "colab_type": "text"
      },
      "source": [
        "<a href=\"https://colab.research.google.com/github/adarshg-lab/maths-code-/blob/main/Experiment_04.ipynb\" target=\"_parent\"><img src=\"https://colab.research.google.com/assets/colab-badge.svg\" alt=\"Open In Colab\"/></a>"
      ]
    },
    {
      "cell_type": "code",
      "execution_count": null,
      "metadata": {
        "id": "uFYsOFLcpi2U"
      },
      "outputs": [],
      "source": []
    },
    {
      "cell_type": "markdown",
      "source": [
        "**4  Lab Session 3: Symbolic operations in Laplace Transform**\n",
        "\n",
        " *Experiment 5: The Laplace Transform and Frequency Response*\n",
        "\n",
        " The Laplace Transform is a powerful mathematical tool used extensively in circuit analysis, control systems, and signal processing. It transforms a function from the time domain, $f(t)$\n",
        ", into the frequency domain, $F(s)$\n",
        ".\n",
        "\n",
        "While this is useful for solving differential equations, its true power in engineering comes from analyzing the frequency response. By setting the complex variable $s = j\\omega$\n",
        " (where $j$\n",
        " is the imaginary unit and\n",
        " is angular frequency), we can see how a system or signal behaves at different frequencies. This is analyzed through two key plots: the **Magnitude Plot** and the **Phase Plot**.\n",
        "\n",
        " **Aim**\n",
        "\n",
        " To compute the Laplace transform of given functions and, most importantly, to visualize and interpret their frequency response through magnitude and phase plots.\n",
        "\n",
        "\n",
        "**Objectives**\n",
        "\n",
        "- To use Python’s SymPy library for symbolic Laplace transforms.\n",
        "- To understand how to obtain the frequency response function $F(j\\omega)$\n",
        " from the Laplace transform $F(s)$\n",
        ".\n",
        "- To generate and interpret magnitude and phase plots.\n",
        "- To connect these plots to physical concepts like amplification, attenuation, and time delay (phase shift).\n",
        "\n",
        "**Algorithm**\n",
        "\n",
        "1. **Define Symbols**: Use sp.symbols() to declare symbolic variables t (time), s (Laplace variable), and w (frequency,\n",
        ").\n",
        "2. **Define the Function**: Specify the time-domain function $f(t)$\n",
        " as a symbolic expression.\n",
        "3. **Compute Laplace Transform**: Use sp.laplace_transform() to find the corresponding $F(s)$\n",
        ".\n",
        "4. **Derive Frequency Response**: Substitute\n",
        " into the symbolic expression for $F(s)$\n",
        " to get the frequency response function $F(j\\omega)$\n",
        ".\n",
        "5. **Prepare for Plotting**: Convert the symbolic expressions for $f(t)$\n",
        " and $F(j\\omega)$\n",
        " into fast numerical functions using sp.lambdify().\n",
        "6. **Generate Data**:\n",
        "- Create a numerical array of time points t_values.\n",
        "- Create a logarithmic array of frequency points w_values using np.logspace().\n",
        "- Calculate the complex values of $F(j\\omega)$\n",
        " for the frequency range.\n",
        "7. **Calculate Magnitude and Phase**:\n",
        "\n",
        "Magnitude: np.abs(F_jw_values)\n",
        "\n",
        "\n",
        "Phase: np.angle(F_jw_values, deg=True) (in degrees for easier interpretation)\n",
        "\n",
        "\n",
        "**Plot**: Create three subplots: the time-domain signal, the magnitude plot (log-log scale), and the phase plot (log-x scale). This set of frequency plots is known as a **Bode Plot**.\n"
      ],
      "metadata": {
        "id": "uXqc5zWtpwX6"
      }
    },
    {
      "cell_type": "markdown",
      "source": [
        "*"
      ],
      "metadata": {
        "id": "iUUWUbjWu9bU"
      }
    },
    {
      "cell_type": "code",
      "source": [
        "#importing library\n",
        "import sympy as sp\n",
        "from IPython.display import display,Math\n",
        "\n",
        "# step 1: Define Symbols\n",
        "t, s, w, a = sp.symbols('t s w a')"
      ],
      "metadata": {
        "id": "wZKMUAy6vL67"
      },
      "execution_count": 18,
      "outputs": []
    },
    {
      "cell_type": "markdown",
      "source": [
        "*step 2:creating symbolic operation*"
      ],
      "metadata": {
        "id": "JI2aGXryv7cM"
      }
    },
    {
      "cell_type": "code",
      "source": [
        "# --- 2. Define the function ---\n",
        "f= sp.sin(a*t)"
      ],
      "metadata": {
        "id": "6HNp48JwwI5q"
      },
      "execution_count": 15,
      "outputs": []
    },
    {
      "cell_type": "markdown",
      "source": [
        "*step3: Evaluating the laplace transform*"
      ],
      "metadata": {
        "id": "jLhkghXVxOY0"
      }
    },
    {
      "cell_type": "code",
      "source": [
        "#------------3 compute laplace transform\n",
        "sp.laplace_transform(f,t,s,noconds=True)"
      ],
      "metadata": {
        "colab": {
          "base_uri": "https://localhost:8080/",
          "height": 49
        },
        "id": "HjzNraz6xZhK",
        "outputId": "6d1d7237-a66b-4ae1-ddfe-e36c77e2bd33"
      },
      "execution_count": 16,
      "outputs": [
        {
          "output_type": "execute_result",
          "data": {
            "text/plain": [
              "a/(a**2 + s**2)"
            ],
            "text/latex": "$\\displaystyle \\frac{a}{a^{2} + s^{2}}$"
          },
          "metadata": {},
          "execution_count": 16
        }
      ]
    },
    {
      "cell_type": "markdown",
      "source": [],
      "metadata": {
        "id": "YJXYvHZpxygq"
      }
    },
    {
      "cell_type": "markdown",
      "source": [
        "*step 4:* Display the output in symbolic mode"
      ],
      "metadata": {
        "id": "yG1SYW3_x9yi"
      }
    },
    {
      "cell_type": "code",
      "source": [
        "#------4 print symbolic results\n",
        "print(\"given function\")\n",
        "display(Math(sp.latex(f)))\n",
        "print(\"laplace transform\")\n",
        "display(Math('\\\\bar{f}(s)='+sp.latex(f)))"
      ],
      "metadata": {
        "colab": {
          "base_uri": "https://localhost:8080/",
          "height": 94
        },
        "id": "Er0pfNIByO0C",
        "outputId": "23bd7fa1-aa9c-4ec5-bea0-17fc0107f340"
      },
      "execution_count": 23,
      "outputs": [
        {
          "output_type": "stream",
          "name": "stdout",
          "text": [
            "given function\n"
          ]
        },
        {
          "output_type": "display_data",
          "data": {
            "text/plain": [
              "<IPython.core.display.Math object>"
            ],
            "text/latex": "$\\displaystyle \\sin{\\left(a t \\right)}$"
          },
          "metadata": {}
        },
        {
          "output_type": "stream",
          "name": "stdout",
          "text": [
            "laplace transform\n"
          ]
        },
        {
          "output_type": "display_data",
          "data": {
            "text/plain": [
              "<IPython.core.display.Math object>"
            ],
            "text/latex": "$\\displaystyle \\bar{f}(s)=\\sin{\\left(a t \\right)}$"
          },
          "metadata": {}
        }
      ]
    },
    {
      "cell_type": "markdown",
      "source": [
        "\n",
        "."
      ],
      "metadata": {
        "id": "lJHVoZjQ3CpG"
      }
    }
  ]
}